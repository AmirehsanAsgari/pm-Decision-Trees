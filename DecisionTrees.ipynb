{
 "cells": [
  {
   "cell_type": "code",
   "execution_count": 1,
   "metadata": {},
   "outputs": [],
   "source": [
    "import numpy as np\n",
    "import pandas as pd\n",
    "from sklearn.tree import DecisionTreeClassifier\n"
   ]
  },
  {
   "cell_type": "code",
   "execution_count": 2,
   "metadata": {},
   "outputs": [],
   "source": [
    "df=pd.read_csv(\"drug200.csv\")"
   ]
  },
  {
   "cell_type": "code",
   "execution_count": 3,
   "metadata": {},
   "outputs": [
    {
     "data": {
      "text/html": [
       "<div>\n",
       "<style scoped>\n",
       "    .dataframe tbody tr th:only-of-type {\n",
       "        vertical-align: middle;\n",
       "    }\n",
       "\n",
       "    .dataframe tbody tr th {\n",
       "        vertical-align: top;\n",
       "    }\n",
       "\n",
       "    .dataframe thead th {\n",
       "        text-align: right;\n",
       "    }\n",
       "</style>\n",
       "<table border=\"1\" class=\"dataframe\">\n",
       "  <thead>\n",
       "    <tr style=\"text-align: right;\">\n",
       "      <th></th>\n",
       "      <th>Age</th>\n",
       "      <th>Sex</th>\n",
       "      <th>BP</th>\n",
       "      <th>Cholesterol</th>\n",
       "      <th>Na_to_K</th>\n",
       "      <th>Drug</th>\n",
       "    </tr>\n",
       "  </thead>\n",
       "  <tbody>\n",
       "    <tr>\n",
       "      <th>0</th>\n",
       "      <td>23</td>\n",
       "      <td>F</td>\n",
       "      <td>HIGH</td>\n",
       "      <td>HIGH</td>\n",
       "      <td>25.355</td>\n",
       "      <td>drugY</td>\n",
       "    </tr>\n",
       "    <tr>\n",
       "      <th>1</th>\n",
       "      <td>47</td>\n",
       "      <td>M</td>\n",
       "      <td>LOW</td>\n",
       "      <td>HIGH</td>\n",
       "      <td>13.093</td>\n",
       "      <td>drugC</td>\n",
       "    </tr>\n",
       "    <tr>\n",
       "      <th>2</th>\n",
       "      <td>47</td>\n",
       "      <td>M</td>\n",
       "      <td>LOW</td>\n",
       "      <td>HIGH</td>\n",
       "      <td>10.114</td>\n",
       "      <td>drugC</td>\n",
       "    </tr>\n",
       "    <tr>\n",
       "      <th>3</th>\n",
       "      <td>28</td>\n",
       "      <td>F</td>\n",
       "      <td>NORMAL</td>\n",
       "      <td>HIGH</td>\n",
       "      <td>7.798</td>\n",
       "      <td>drugX</td>\n",
       "    </tr>\n",
       "    <tr>\n",
       "      <th>4</th>\n",
       "      <td>61</td>\n",
       "      <td>F</td>\n",
       "      <td>LOW</td>\n",
       "      <td>HIGH</td>\n",
       "      <td>18.043</td>\n",
       "      <td>drugY</td>\n",
       "    </tr>\n",
       "  </tbody>\n",
       "</table>\n",
       "</div>"
      ],
      "text/plain": [
       "   Age Sex      BP Cholesterol  Na_to_K   Drug\n",
       "0   23   F    HIGH        HIGH   25.355  drugY\n",
       "1   47   M     LOW        HIGH   13.093  drugC\n",
       "2   47   M     LOW        HIGH   10.114  drugC\n",
       "3   28   F  NORMAL        HIGH    7.798  drugX\n",
       "4   61   F     LOW        HIGH   18.043  drugY"
      ]
     },
     "execution_count": 3,
     "metadata": {},
     "output_type": "execute_result"
    }
   ],
   "source": [
    "df.head()"
   ]
  },
  {
   "cell_type": "code",
   "execution_count": 4,
   "metadata": {},
   "outputs": [
    {
     "data": {
      "text/plain": [
       "array([[23, 'F', 'HIGH', 'HIGH', 25.355],\n",
       "       [47, 'M', 'LOW', 'HIGH', 13.093],\n",
       "       [47, 'M', 'LOW', 'HIGH', 10.114],\n",
       "       [28, 'F', 'NORMAL', 'HIGH', 7.798],\n",
       "       [61, 'F', 'LOW', 'HIGH', 18.043]], dtype=object)"
      ]
     },
     "execution_count": 4,
     "metadata": {},
     "output_type": "execute_result"
    }
   ],
   "source": [
    "x=df[[\"Age\",\"Sex\",\"BP\",\"Cholesterol\",\"Na_to_K\"]].values\n",
    "x[:5]\n"
   ]
  },
  {
   "cell_type": "code",
   "execution_count": 5,
   "metadata": {},
   "outputs": [
    {
     "data": {
      "text/plain": [
       "array([[23, 0, 0, 0, 25.355],\n",
       "       [47, 1, 1, 0, 13.093],\n",
       "       [47, 1, 1, 0, 10.114],\n",
       "       [28, 0, 2, 0, 7.798],\n",
       "       [61, 0, 1, 0, 18.043]], dtype=object)"
      ]
     },
     "execution_count": 5,
     "metadata": {},
     "output_type": "execute_result"
    }
   ],
   "source": [
    "from sklearn import preprocessing\n",
    "\n",
    "le_sex=preprocessing.LabelEncoder()\n",
    "le_sex.fit([\"F\",\"M\"])\n",
    "x[:,1] = le_sex.transform(x[:,1])\n",
    "\n",
    "le_BP=preprocessing.LabelEncoder()\n",
    "le_BP.fit([\"HIGH\",\"LOW\",\"NORMAL\"])\n",
    "x[:,2] = le_BP.transform(x[:,2])\n",
    "\n",
    "le_Cholesterol=preprocessing.LabelEncoder()\n",
    "le_Cholesterol.fit([\"NORMAL\",\"HIGH\"])\n",
    "x[:,3] = le_Cholesterol.transform(x[:,3])\n",
    "\n",
    "x[:5]"
   ]
  },
  {
   "cell_type": "code",
   "execution_count": 6,
   "metadata": {},
   "outputs": [
    {
     "data": {
      "text/plain": [
       "0    drugY\n",
       "1    drugC\n",
       "2    drugC\n",
       "3    drugX\n",
       "4    drugY\n",
       "Name: Drug, dtype: object"
      ]
     },
     "execution_count": 6,
     "metadata": {},
     "output_type": "execute_result"
    }
   ],
   "source": [
    "y=df[\"Drug\"]\n",
    "y[0:5]"
   ]
  },
  {
   "cell_type": "code",
   "execution_count": 16,
   "metadata": {},
   "outputs": [
    {
     "data": {
      "text/plain": [
       "array([[23, 0, 0, 0, 25.355],\n",
       "       [47, 1, 1, 0, 13.093],\n",
       "       [47, 1, 1, 0, 10.114],\n",
       "       [28, 0, 2, 0, 7.798],\n",
       "       [61, 0, 1, 0, 18.043],\n",
       "       [22, 0, 2, 0, 8.607],\n",
       "       [49, 0, 2, 0, 16.275],\n",
       "       [41, 1, 1, 0, 11.037],\n",
       "       [60, 1, 2, 0, 15.171],\n",
       "       [43, 1, 1, 1, 19.368],\n",
       "       [47, 0, 1, 0, 11.767],\n",
       "       [34, 0, 0, 1, 19.199],\n",
       "       [43, 1, 1, 0, 15.376],\n",
       "       [74, 0, 1, 0, 20.942],\n",
       "       [50, 0, 2, 0, 12.703],\n",
       "       [16, 0, 0, 1, 15.516],\n",
       "       [69, 1, 1, 1, 11.455],\n",
       "       [43, 1, 0, 0, 13.972],\n",
       "       [23, 1, 1, 0, 7.298],\n",
       "       [32, 0, 0, 1, 25.974],\n",
       "       [57, 1, 1, 1, 19.128],\n",
       "       [63, 1, 2, 0, 25.917],\n",
       "       [47, 1, 1, 1, 30.568],\n",
       "       [48, 0, 1, 0, 15.036],\n",
       "       [33, 0, 1, 0, 33.486],\n",
       "       [28, 0, 0, 1, 18.809],\n",
       "       [31, 1, 0, 0, 30.366],\n",
       "       [49, 0, 2, 1, 9.381],\n",
       "       [39, 0, 1, 1, 22.697],\n",
       "       [45, 1, 1, 0, 17.951],\n",
       "       [18, 0, 2, 1, 8.75],\n",
       "       [74, 1, 0, 0, 9.567],\n",
       "       [49, 1, 1, 1, 11.014],\n",
       "       [65, 0, 0, 1, 31.876],\n",
       "       [53, 1, 2, 0, 14.133],\n",
       "       [46, 1, 2, 1, 7.285],\n",
       "       [32, 1, 0, 1, 9.445],\n",
       "       [39, 1, 1, 1, 13.938],\n",
       "       [39, 0, 2, 1, 9.709],\n",
       "       [15, 1, 2, 0, 9.084],\n",
       "       [73, 0, 2, 0, 19.221],\n",
       "       [58, 0, 0, 1, 14.239],\n",
       "       [50, 1, 2, 1, 15.79],\n",
       "       [23, 1, 2, 0, 12.26],\n",
       "       [50, 0, 2, 1, 12.295],\n",
       "       [66, 0, 2, 1, 8.107],\n",
       "       [37, 0, 0, 0, 13.091],\n",
       "       [68, 1, 1, 0, 10.291],\n",
       "       [23, 1, 2, 0, 31.686],\n",
       "       [28, 0, 1, 0, 19.796],\n",
       "       [58, 0, 0, 0, 19.416],\n",
       "       [67, 1, 2, 1, 10.898],\n",
       "       [62, 1, 1, 1, 27.183],\n",
       "       [24, 0, 0, 1, 18.457],\n",
       "       [68, 0, 0, 1, 10.189],\n",
       "       [26, 0, 1, 0, 14.16],\n",
       "       [65, 1, 0, 1, 11.34],\n",
       "       [40, 1, 0, 0, 27.826],\n",
       "       [60, 1, 2, 1, 10.091],\n",
       "       [34, 1, 0, 0, 18.703],\n",
       "       [38, 0, 1, 1, 29.875],\n",
       "       [24, 1, 0, 1, 9.475],\n",
       "       [67, 1, 1, 1, 20.693],\n",
       "       [45, 1, 1, 1, 8.37],\n",
       "       [60, 0, 0, 0, 13.303],\n",
       "       [68, 0, 2, 1, 27.05],\n",
       "       [29, 1, 0, 0, 12.856],\n",
       "       [17, 1, 2, 1, 10.832],\n",
       "       [54, 1, 2, 0, 24.658],\n",
       "       [18, 0, 0, 1, 24.276],\n",
       "       [70, 1, 0, 0, 13.967],\n",
       "       [28, 0, 2, 0, 19.675],\n",
       "       [24, 0, 2, 0, 10.605],\n",
       "       [41, 0, 2, 1, 22.905],\n",
       "       [31, 1, 0, 1, 17.069],\n",
       "       [26, 1, 1, 1, 20.909],\n",
       "       [36, 0, 0, 0, 11.198],\n",
       "       [26, 0, 0, 1, 19.161],\n",
       "       [19, 0, 0, 0, 13.313],\n",
       "       [32, 0, 1, 1, 10.84],\n",
       "       [60, 1, 0, 0, 13.934],\n",
       "       [64, 1, 2, 0, 7.761],\n",
       "       [32, 0, 1, 0, 9.712],\n",
       "       [38, 0, 0, 1, 11.326],\n",
       "       [47, 0, 1, 0, 10.067],\n",
       "       [59, 1, 0, 0, 13.935],\n",
       "       [51, 0, 2, 0, 13.597],\n",
       "       [69, 1, 1, 0, 15.478],\n",
       "       [37, 0, 0, 1, 23.091],\n",
       "       [50, 0, 2, 1, 17.211],\n",
       "       [62, 1, 2, 0, 16.594],\n",
       "       [41, 1, 0, 1, 15.156],\n",
       "       [29, 0, 0, 0, 29.45],\n",
       "       [42, 0, 1, 1, 29.271],\n",
       "       [56, 1, 1, 0, 15.015],\n",
       "       [36, 1, 1, 1, 11.424],\n",
       "       [58, 0, 1, 0, 38.247],\n",
       "       [56, 0, 0, 0, 25.395],\n",
       "       [20, 1, 0, 1, 35.639],\n",
       "       [15, 0, 0, 1, 16.725],\n",
       "       [31, 1, 0, 1, 11.871],\n",
       "       [45, 0, 0, 0, 12.854],\n",
       "       [28, 0, 1, 0, 13.127],\n",
       "       [56, 1, 2, 0, 8.966],\n",
       "       [22, 1, 0, 1, 28.294],\n",
       "       [37, 1, 1, 1, 8.968],\n",
       "       [22, 1, 2, 0, 11.953],\n",
       "       [42, 1, 1, 0, 20.013],\n",
       "       [72, 1, 0, 1, 9.677],\n",
       "       [23, 1, 2, 0, 16.85],\n",
       "       [50, 1, 0, 0, 7.49],\n",
       "       [47, 0, 2, 1, 6.683],\n",
       "       [35, 1, 1, 1, 9.17],\n",
       "       [65, 0, 1, 1, 13.769],\n",
       "       [20, 0, 2, 1, 9.281],\n",
       "       [51, 1, 0, 0, 18.295],\n",
       "       [67, 1, 2, 1, 9.514],\n",
       "       [40, 0, 2, 0, 10.103],\n",
       "       [32, 0, 0, 1, 10.292],\n",
       "       [61, 0, 0, 0, 25.475],\n",
       "       [28, 1, 2, 0, 27.064],\n",
       "       [15, 1, 0, 1, 17.206],\n",
       "       [34, 1, 2, 0, 22.456],\n",
       "       [36, 0, 2, 0, 16.753],\n",
       "       [53, 0, 0, 1, 12.495],\n",
       "       [19, 0, 0, 1, 25.969],\n",
       "       [66, 1, 0, 0, 16.347],\n",
       "       [35, 1, 2, 1, 7.845],\n",
       "       [47, 1, 1, 1, 33.542],\n",
       "       [32, 0, 2, 0, 7.477],\n",
       "       [70, 0, 2, 0, 20.489],\n",
       "       [52, 1, 1, 1, 32.922],\n",
       "       [49, 1, 1, 1, 13.598],\n",
       "       [24, 1, 2, 0, 25.786],\n",
       "       [42, 0, 0, 0, 21.036],\n",
       "       [74, 1, 1, 1, 11.939],\n",
       "       [55, 0, 0, 0, 10.977],\n",
       "       [35, 0, 0, 0, 12.894],\n",
       "       [51, 1, 0, 1, 11.343],\n",
       "       [69, 0, 2, 0, 10.065],\n",
       "       [49, 1, 0, 1, 6.269],\n",
       "       [64, 0, 1, 1, 25.741],\n",
       "       [60, 1, 0, 1, 8.621],\n",
       "       [74, 1, 0, 1, 15.436],\n",
       "       [39, 1, 0, 0, 9.664],\n",
       "       [61, 1, 2, 0, 9.443],\n",
       "       [37, 0, 1, 1, 12.006],\n",
       "       [26, 0, 0, 1, 12.307],\n",
       "       [61, 0, 1, 1, 7.34],\n",
       "       [22, 1, 1, 0, 8.151],\n",
       "       [49, 1, 0, 1, 8.7],\n",
       "       [68, 1, 0, 0, 11.009],\n",
       "       [55, 1, 2, 1, 7.261],\n",
       "       [72, 0, 1, 1, 14.642],\n",
       "       [37, 1, 1, 1, 16.724],\n",
       "       [49, 1, 1, 0, 10.537],\n",
       "       [31, 1, 0, 1, 11.227],\n",
       "       [53, 1, 1, 0, 22.963],\n",
       "       [59, 0, 1, 0, 10.444],\n",
       "       [34, 0, 1, 1, 12.923],\n",
       "       [30, 0, 2, 0, 10.443],\n",
       "       [57, 0, 0, 1, 9.945],\n",
       "       [43, 1, 2, 1, 12.859],\n",
       "       [21, 0, 0, 1, 28.632],\n",
       "       [16, 1, 0, 1, 19.007],\n",
       "       [38, 1, 1, 0, 18.295],\n",
       "       [58, 0, 1, 0, 26.645],\n",
       "       [57, 0, 2, 0, 14.216],\n",
       "       [51, 0, 1, 1, 23.003],\n",
       "       [20, 0, 0, 0, 11.262],\n",
       "       [28, 0, 2, 0, 12.879],\n",
       "       [45, 1, 1, 1, 10.017],\n",
       "       [39, 0, 2, 1, 17.225],\n",
       "       [41, 0, 1, 1, 18.739],\n",
       "       [42, 1, 0, 1, 12.766],\n",
       "       [73, 0, 0, 0, 18.348],\n",
       "       [48, 1, 0, 1, 10.446],\n",
       "       [25, 1, 2, 0, 19.011],\n",
       "       [39, 1, 2, 0, 15.969],\n",
       "       [67, 0, 2, 0, 15.891],\n",
       "       [22, 0, 0, 1, 22.818],\n",
       "       [59, 0, 2, 0, 13.884],\n",
       "       [20, 0, 1, 1, 11.686],\n",
       "       [36, 0, 0, 1, 15.49],\n",
       "       [18, 0, 0, 0, 37.188],\n",
       "       [57, 0, 2, 1, 25.893],\n",
       "       [70, 1, 0, 0, 9.849],\n",
       "       [47, 1, 0, 0, 10.403],\n",
       "       [65, 1, 0, 1, 34.997],\n",
       "       [64, 1, 0, 1, 20.932],\n",
       "       [58, 1, 0, 0, 18.991],\n",
       "       [23, 1, 0, 0, 8.011],\n",
       "       [72, 1, 1, 0, 16.31],\n",
       "       [72, 1, 1, 0, 6.769],\n",
       "       [46, 0, 0, 0, 34.686],\n",
       "       [56, 0, 1, 0, 11.567],\n",
       "       [16, 1, 1, 0, 12.006],\n",
       "       [52, 1, 2, 0, 9.894],\n",
       "       [23, 1, 2, 1, 14.02],\n",
       "       [40, 0, 1, 1, 11.349]], dtype=object)"
      ]
     },
     "execution_count": 16,
     "metadata": {},
     "output_type": "execute_result"
    }
   ],
   "source": [
    "x"
   ]
  },
  {
   "cell_type": "code",
   "execution_count": 7,
   "metadata": {},
   "outputs": [],
   "source": [
    "from sklearn.model_selection import train_test_split\n",
    "\n",
    "train_x,test_x,train_y,test_y=train_test_split(x,y,test_size=0.3,random_state=100)\n"
   ]
  },
  {
   "cell_type": "code",
   "execution_count": 8,
   "metadata": {},
   "outputs": [
    {
     "data": {
      "text/html": [
       "<style>#sk-container-id-1 {color: black;}#sk-container-id-1 pre{padding: 0;}#sk-container-id-1 div.sk-toggleable {background-color: white;}#sk-container-id-1 label.sk-toggleable__label {cursor: pointer;display: block;width: 100%;margin-bottom: 0;padding: 0.3em;box-sizing: border-box;text-align: center;}#sk-container-id-1 label.sk-toggleable__label-arrow:before {content: \"▸\";float: left;margin-right: 0.25em;color: #696969;}#sk-container-id-1 label.sk-toggleable__label-arrow:hover:before {color: black;}#sk-container-id-1 div.sk-estimator:hover label.sk-toggleable__label-arrow:before {color: black;}#sk-container-id-1 div.sk-toggleable__content {max-height: 0;max-width: 0;overflow: hidden;text-align: left;background-color: #f0f8ff;}#sk-container-id-1 div.sk-toggleable__content pre {margin: 0.2em;color: black;border-radius: 0.25em;background-color: #f0f8ff;}#sk-container-id-1 input.sk-toggleable__control:checked~div.sk-toggleable__content {max-height: 200px;max-width: 100%;overflow: auto;}#sk-container-id-1 input.sk-toggleable__control:checked~label.sk-toggleable__label-arrow:before {content: \"▾\";}#sk-container-id-1 div.sk-estimator input.sk-toggleable__control:checked~label.sk-toggleable__label {background-color: #d4ebff;}#sk-container-id-1 div.sk-label input.sk-toggleable__control:checked~label.sk-toggleable__label {background-color: #d4ebff;}#sk-container-id-1 input.sk-hidden--visually {border: 0;clip: rect(1px 1px 1px 1px);clip: rect(1px, 1px, 1px, 1px);height: 1px;margin: -1px;overflow: hidden;padding: 0;position: absolute;width: 1px;}#sk-container-id-1 div.sk-estimator {font-family: monospace;background-color: #f0f8ff;border: 1px dotted black;border-radius: 0.25em;box-sizing: border-box;margin-bottom: 0.5em;}#sk-container-id-1 div.sk-estimator:hover {background-color: #d4ebff;}#sk-container-id-1 div.sk-parallel-item::after {content: \"\";width: 100%;border-bottom: 1px solid gray;flex-grow: 1;}#sk-container-id-1 div.sk-label:hover label.sk-toggleable__label {background-color: #d4ebff;}#sk-container-id-1 div.sk-serial::before {content: \"\";position: absolute;border-left: 1px solid gray;box-sizing: border-box;top: 0;bottom: 0;left: 50%;z-index: 0;}#sk-container-id-1 div.sk-serial {display: flex;flex-direction: column;align-items: center;background-color: white;padding-right: 0.2em;padding-left: 0.2em;position: relative;}#sk-container-id-1 div.sk-item {position: relative;z-index: 1;}#sk-container-id-1 div.sk-parallel {display: flex;align-items: stretch;justify-content: center;background-color: white;position: relative;}#sk-container-id-1 div.sk-item::before, #sk-container-id-1 div.sk-parallel-item::before {content: \"\";position: absolute;border-left: 1px solid gray;box-sizing: border-box;top: 0;bottom: 0;left: 50%;z-index: -1;}#sk-container-id-1 div.sk-parallel-item {display: flex;flex-direction: column;z-index: 1;position: relative;background-color: white;}#sk-container-id-1 div.sk-parallel-item:first-child::after {align-self: flex-end;width: 50%;}#sk-container-id-1 div.sk-parallel-item:last-child::after {align-self: flex-start;width: 50%;}#sk-container-id-1 div.sk-parallel-item:only-child::after {width: 0;}#sk-container-id-1 div.sk-dashed-wrapped {border: 1px dashed gray;margin: 0 0.4em 0.5em 0.4em;box-sizing: border-box;padding-bottom: 0.4em;background-color: white;}#sk-container-id-1 div.sk-label label {font-family: monospace;font-weight: bold;display: inline-block;line-height: 1.2em;}#sk-container-id-1 div.sk-label-container {text-align: center;}#sk-container-id-1 div.sk-container {/* jupyter's `normalize.less` sets `[hidden] { display: none; }` but bootstrap.min.css set `[hidden] { display: none !important; }` so we also need the `!important` here to be able to override the default hidden behavior on the sphinx rendered scikit-learn.org. See: https://github.com/scikit-learn/scikit-learn/issues/21755 */display: inline-block !important;position: relative;}#sk-container-id-1 div.sk-text-repr-fallback {display: none;}</style><div id=\"sk-container-id-1\" class=\"sk-top-container\"><div class=\"sk-text-repr-fallback\"><pre>DecisionTreeClassifier(criterion=&#x27;entropy&#x27;, max_depth=4)</pre><b>In a Jupyter environment, please rerun this cell to show the HTML representation or trust the notebook. <br />On GitHub, the HTML representation is unable to render, please try loading this page with nbviewer.org.</b></div><div class=\"sk-container\" hidden><div class=\"sk-item\"><div class=\"sk-estimator sk-toggleable\"><input class=\"sk-toggleable__control sk-hidden--visually\" id=\"sk-estimator-id-1\" type=\"checkbox\" checked><label for=\"sk-estimator-id-1\" class=\"sk-toggleable__label sk-toggleable__label-arrow\">DecisionTreeClassifier</label><div class=\"sk-toggleable__content\"><pre>DecisionTreeClassifier(criterion=&#x27;entropy&#x27;, max_depth=4)</pre></div></div></div></div></div>"
      ],
      "text/plain": [
       "DecisionTreeClassifier(criterion='entropy', max_depth=4)"
      ]
     },
     "execution_count": 8,
     "metadata": {},
     "output_type": "execute_result"
    }
   ],
   "source": [
    "drugtree= DecisionTreeClassifier(criterion=\"entropy\",max_depth=4)\n",
    "drugtree"
   ]
  },
  {
   "cell_type": "code",
   "execution_count": 9,
   "metadata": {},
   "outputs": [
    {
     "data": {
      "text/html": [
       "<style>#sk-container-id-2 {color: black;}#sk-container-id-2 pre{padding: 0;}#sk-container-id-2 div.sk-toggleable {background-color: white;}#sk-container-id-2 label.sk-toggleable__label {cursor: pointer;display: block;width: 100%;margin-bottom: 0;padding: 0.3em;box-sizing: border-box;text-align: center;}#sk-container-id-2 label.sk-toggleable__label-arrow:before {content: \"▸\";float: left;margin-right: 0.25em;color: #696969;}#sk-container-id-2 label.sk-toggleable__label-arrow:hover:before {color: black;}#sk-container-id-2 div.sk-estimator:hover label.sk-toggleable__label-arrow:before {color: black;}#sk-container-id-2 div.sk-toggleable__content {max-height: 0;max-width: 0;overflow: hidden;text-align: left;background-color: #f0f8ff;}#sk-container-id-2 div.sk-toggleable__content pre {margin: 0.2em;color: black;border-radius: 0.25em;background-color: #f0f8ff;}#sk-container-id-2 input.sk-toggleable__control:checked~div.sk-toggleable__content {max-height: 200px;max-width: 100%;overflow: auto;}#sk-container-id-2 input.sk-toggleable__control:checked~label.sk-toggleable__label-arrow:before {content: \"▾\";}#sk-container-id-2 div.sk-estimator input.sk-toggleable__control:checked~label.sk-toggleable__label {background-color: #d4ebff;}#sk-container-id-2 div.sk-label input.sk-toggleable__control:checked~label.sk-toggleable__label {background-color: #d4ebff;}#sk-container-id-2 input.sk-hidden--visually {border: 0;clip: rect(1px 1px 1px 1px);clip: rect(1px, 1px, 1px, 1px);height: 1px;margin: -1px;overflow: hidden;padding: 0;position: absolute;width: 1px;}#sk-container-id-2 div.sk-estimator {font-family: monospace;background-color: #f0f8ff;border: 1px dotted black;border-radius: 0.25em;box-sizing: border-box;margin-bottom: 0.5em;}#sk-container-id-2 div.sk-estimator:hover {background-color: #d4ebff;}#sk-container-id-2 div.sk-parallel-item::after {content: \"\";width: 100%;border-bottom: 1px solid gray;flex-grow: 1;}#sk-container-id-2 div.sk-label:hover label.sk-toggleable__label {background-color: #d4ebff;}#sk-container-id-2 div.sk-serial::before {content: \"\";position: absolute;border-left: 1px solid gray;box-sizing: border-box;top: 0;bottom: 0;left: 50%;z-index: 0;}#sk-container-id-2 div.sk-serial {display: flex;flex-direction: column;align-items: center;background-color: white;padding-right: 0.2em;padding-left: 0.2em;position: relative;}#sk-container-id-2 div.sk-item {position: relative;z-index: 1;}#sk-container-id-2 div.sk-parallel {display: flex;align-items: stretch;justify-content: center;background-color: white;position: relative;}#sk-container-id-2 div.sk-item::before, #sk-container-id-2 div.sk-parallel-item::before {content: \"\";position: absolute;border-left: 1px solid gray;box-sizing: border-box;top: 0;bottom: 0;left: 50%;z-index: -1;}#sk-container-id-2 div.sk-parallel-item {display: flex;flex-direction: column;z-index: 1;position: relative;background-color: white;}#sk-container-id-2 div.sk-parallel-item:first-child::after {align-self: flex-end;width: 50%;}#sk-container-id-2 div.sk-parallel-item:last-child::after {align-self: flex-start;width: 50%;}#sk-container-id-2 div.sk-parallel-item:only-child::after {width: 0;}#sk-container-id-2 div.sk-dashed-wrapped {border: 1px dashed gray;margin: 0 0.4em 0.5em 0.4em;box-sizing: border-box;padding-bottom: 0.4em;background-color: white;}#sk-container-id-2 div.sk-label label {font-family: monospace;font-weight: bold;display: inline-block;line-height: 1.2em;}#sk-container-id-2 div.sk-label-container {text-align: center;}#sk-container-id-2 div.sk-container {/* jupyter's `normalize.less` sets `[hidden] { display: none; }` but bootstrap.min.css set `[hidden] { display: none !important; }` so we also need the `!important` here to be able to override the default hidden behavior on the sphinx rendered scikit-learn.org. See: https://github.com/scikit-learn/scikit-learn/issues/21755 */display: inline-block !important;position: relative;}#sk-container-id-2 div.sk-text-repr-fallback {display: none;}</style><div id=\"sk-container-id-2\" class=\"sk-top-container\"><div class=\"sk-text-repr-fallback\"><pre>DecisionTreeClassifier(criterion=&#x27;entropy&#x27;, max_depth=4)</pre><b>In a Jupyter environment, please rerun this cell to show the HTML representation or trust the notebook. <br />On GitHub, the HTML representation is unable to render, please try loading this page with nbviewer.org.</b></div><div class=\"sk-container\" hidden><div class=\"sk-item\"><div class=\"sk-estimator sk-toggleable\"><input class=\"sk-toggleable__control sk-hidden--visually\" id=\"sk-estimator-id-2\" type=\"checkbox\" checked><label for=\"sk-estimator-id-2\" class=\"sk-toggleable__label sk-toggleable__label-arrow\">DecisionTreeClassifier</label><div class=\"sk-toggleable__content\"><pre>DecisionTreeClassifier(criterion=&#x27;entropy&#x27;, max_depth=4)</pre></div></div></div></div></div>"
      ],
      "text/plain": [
       "DecisionTreeClassifier(criterion='entropy', max_depth=4)"
      ]
     },
     "execution_count": 9,
     "metadata": {},
     "output_type": "execute_result"
    }
   ],
   "source": [
    "drugtree.fit(train_x,train_y)"
   ]
  },
  {
   "cell_type": "code",
   "execution_count": 10,
   "metadata": {},
   "outputs": [
    {
     "name": "stdout",
     "output_type": "stream",
     "text": [
      "126    drugY\n",
      "104    drugY\n",
      "99     drugY\n",
      "92     drugY\n",
      "111    drugX\n",
      "Name: Drug, dtype: object\n",
      "['drugY' 'drugY' 'drugY' 'drugY' 'drugX']\n"
     ]
    },
    {
     "name": "stderr",
     "output_type": "stream",
     "text": [
      "C:\\Users\\kavosh-lp\\AppData\\Local\\Temp\\ipykernel_7360\\1562368762.py:2: FutureWarning: The behavior of `series[i:j]` with an integer-dtype index is deprecated. In a future version, this will be treated as *label-based* indexing, consistent with e.g. `series[i]` lookups. To retain the old behavior, use `series.iloc[i:j]`. To get the future behavior, use `series.loc[i:j]`.\n",
      "  print(test_y[0:5])\n"
     ]
    }
   ],
   "source": [
    "predtree=drugtree.predict(test_x)\n",
    "print(test_y[0:5])\n",
    "    print(predtree[0:5])"
   ]
  },
  {
   "cell_type": "code",
   "execution_count": 11,
   "metadata": {},
   "outputs": [
    {
     "name": "stdout",
     "output_type": "stream",
     "text": [
      "Decition trees Accuuracy: 0.9833333333333333\n"
     ]
    }
   ],
   "source": [
    "from sklearn import metrics\n",
    "import matplotlib.pyplot as plt\n",
    "print(\"Decition trees Accuuracy:\",metrics.accuracy_score(test_y,predtree))"
   ]
  }
 ],
 "metadata": {
  "interpreter": {
   "hash": "de5a70f5d9572097f31f4967c6fcf0545c864068605087ccbd090368bb1f8886"
  },
  "kernelspec": {
   "display_name": "Python 3.10.8 64-bit (system)",
   "language": "python",
   "name": "python3"
  },
  "language_info": {
   "codemirror_mode": {
    "name": "ipython",
    "version": 3
   },
   "file_extension": ".py",
   "mimetype": "text/x-python",
   "name": "python",
   "nbconvert_exporter": "python",
   "pygments_lexer": "ipython3",
   "version": "3.10.8"
  },
  "orig_nbformat": 4
 },
 "nbformat": 4,
 "nbformat_minor": 2
}
